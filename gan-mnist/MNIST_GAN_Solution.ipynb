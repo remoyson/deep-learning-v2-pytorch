{
 "cells": [
  {
   "cell_type": "markdown",
   "metadata": {},
   "source": [
    "# Generative Adversarial Network\n",
    "\n",
    "In this notebook, we'll be building a generative adversarial network (GAN) trained on the MNIST dataset. From this, we'll be able to generate new handwritten digits!\n",
    "\n",
    "GANs were [first reported on](https://arxiv.org/abs/1406.2661) in 2014 from Ian Goodfellow and others in Yoshua Bengio's lab. Since then, GANs have exploded in popularity. Here are a few examples to check out:\n",
    "\n",
    "* [Pix2Pix](https://affinelayer.com/pixsrv/) \n",
    "* [CycleGAN & Pix2Pix in PyTorch, Jun-Yan Zhu](https://github.com/junyanz/pytorch-CycleGAN-and-pix2pix)\n",
    "* [A list of generative models](https://github.com/wiseodd/generative-models)\n",
    "\n",
    "The idea behind GANs is that you have two networks, a generator $G$ and a discriminator $D$, competing against each other. The generator makes \"fake\" data to pass to the discriminator. The discriminator also sees real training data and predicts if the data it's received is real or fake. \n",
    "> * The generator is trained to fool the discriminator, it wants to output data that looks _as close as possible_ to real, training data. \n",
    "* The discriminator is a classifier that is trained to figure out which data is real and which is fake. \n",
    "\n",
    "What ends up happening is that the generator learns to make data that is indistinguishable from real data to the discriminator.\n",
    "\n",
    "<img src='assets/gan_pipeline.png' width=70% />\n",
    "\n",
    "The general structure of a GAN is shown in the diagram above, using MNIST images as data. The latent sample is a random vector that the generator uses to construct its fake images. This is often called a **latent vector** and that vector space is called **latent space**. As the generator trains, it figures out how to map latent vectors to recognizable images that can fool the discriminator.\n",
    "\n",
    "If you're interested in generating only new images, you can throw out the discriminator after training. In this notebook, I'll show you how to define and train these adversarial networks in PyTorch and generate new images!"
   ]
  },
  {
   "cell_type": "code",
   "execution_count": 1,
   "metadata": {},
   "outputs": [],
   "source": [
    "%matplotlib inline\n",
    "\n",
    "import numpy as np\n",
    "import torch\n",
    "import matplotlib.pyplot as plt"
   ]
  },
  {
   "cell_type": "code",
   "execution_count": 2,
   "metadata": {},
   "outputs": [],
   "source": [
    "from torchvision import datasets\n",
    "import torchvision.transforms as transforms\n",
    "\n",
    "# number of subprocesses to use for data loading\n",
    "num_workers = 0\n",
    "# how many samples per batch to load\n",
    "batch_size = 64\n",
    "\n",
    "# convert data to torch.FloatTensor\n",
    "transform = transforms.ToTensor()\n",
    "\n",
    "# get the training datasets\n",
    "train_data = datasets.MNIST(root='data', train=True,\n",
    "                                   download=True, transform=transform)\n",
    "\n",
    "# prepare data loader\n",
    "train_loader = torch.utils.data.DataLoader(train_data, batch_size=batch_size,\n",
    "                                           num_workers=num_workers)"
   ]
  },
  {
   "cell_type": "markdown",
   "metadata": {},
   "source": [
    "### Visualize the data"
   ]
  },
  {
   "cell_type": "code",
   "execution_count": 3,
   "metadata": {},
   "outputs": [
    {
     "data": {
      "text/plain": [
       "<matplotlib.image.AxesImage at 0x1957cbb7470>"
      ]
     },
     "execution_count": 3,
     "metadata": {},
     "output_type": "execute_result"
    },
    {
     "data": {
      "image/png": "[encoded data removed]",
      "text/plain": [
       "<Figure size 216x216 with 1 Axes>"
      ]
     },
     "metadata": {
      "needs_background": "light"
     },
     "output_type": "display_data"
    }
   ],
   "source": [
    "# obtain one batch of training images\n",
    "dataiter = iter(train_loader)\n",
    "images, labels = dataiter.next()\n",
    "images = images.numpy()\n",
    "\n",
    "# get one image from the batch\n",
    "img = np.squeeze(images[0])\n",
    "\n",
    "fig = plt.figure(figsize = (3,3)) \n",
    "ax = fig.add_subplot(111)\n",
    "ax.imshow(img, cmap='gray')"
   ]
  },
  {
   "cell_type": "markdown",
   "metadata": {},
   "source": [
    "---\n",
    "# Define the Model\n",
    "\n",
    "A GAN is comprised of two adversarial networks, a discriminator and a generator."
   ]
  },
  {
   "cell_type": "markdown",
   "metadata": {},
   "source": [
    "## Discriminator\n",
    "\n",
    "The discriminator network is going to be a pretty typical linear classifier. To make this network a universal function approximator, we'll need at least one hidden layer, and these hidden layers should have one key attribute:\n",
    "> All hidden layers will have a [Leaky ReLu](https://pytorch.org/docs/stable/nn.html#torch.nn.LeakyReLU) activation function applied to their outputs.\n",
    "\n",
    "<img src='assets/gan_network.png' width=70% />\n",
    "\n",
    "#### Leaky ReLu\n",
    "\n",
    "We should use a leaky ReLU to allow gradients to flow backwards through the layer unimpeded. A leaky ReLU is like a normal ReLU, except that there is a small non-zero output for negative input values.\n",
    "\n",
    "<img src='assets/leaky_relu.png' width=40% />\n",
    "\n",
    "#### Sigmoid Output\n",
    "\n",
    "We'll also take the approach of using a more numerically stable loss function on the outputs. Recall that we want the discriminator to output a value 0-1 indicating whether an image is _real or fake_. \n",
    "> We will ultimately use [BCEWithLogitsLoss](https://pytorch.org/docs/stable/nn.html#bcewithlogitsloss), which combines a `sigmoid` activation function **and** and binary cross entropy loss in one function. \n",
    "\n",
    "So, our final output layer should not have any activation function applied to it."
   ]
  },
  {
   "cell_type": "code",
   "execution_count": 4,
   "metadata": {},
   "outputs": [],
   "source": [
    "import torch.nn as nn\n",
    "import torch.nn.functional as F\n",
    "\n",
    "class Discriminator(nn.Module):\n",
    "\n",
    "    def __init__(self, input_size, hidden_dim, output_size):\n",
    "        super(Discriminator, self).__init__()\n",
    "        \n",
    "        # define hidden linear layers\n",
    "        self.fc1 = nn.Linear(input_size, hidden_dim*4)\n",
    "        self.fc2 = nn.Linear(hidden_dim*4, hidden_dim*2)\n",
    "        self.fc3 = nn.Linear(hidden_dim*2, hidden_dim)\n",
    "        \n",
    "        # final fully-connected layer\n",
    "        self.fc4 = nn.Linear(hidden_dim, output_size)\n",
    "        \n",
    "        # dropout layer \n",
    "        self.dropout = nn.Dropout(0.3)\n",
    "        \n",
    "        \n",
    "    def forward(self, x):\n",
    "        # flatten image\n",
    "        x = x.view(-1, 28*28)\n",
    "        # all hidden layers\n",
    "        x = F.leaky_relu(self.fc1(x), 0.2) # (input, negative_slope=0.2)\n",
    "        x = self.dropout(x)\n",
    "        x = F.leaky_relu(self.fc2(x), 0.2)\n",
    "        x = self.dropout(x)\n",
    "        x = F.leaky_relu(self.fc3(x), 0.2)\n",
    "        x = self.dropout(x)\n",
    "        # final layer\n",
    "        out = self.fc4(x)\n",
    "\n",
    "        return out\n"
   ]
  },
  {
   "cell_type": "markdown",
   "metadata": {},
   "source": [
    "## Generator\n",
    "\n",
    "The generator network will be almost exactly the same as the discriminator network, except that we're applying a [tanh activation function](https://pytorch.org/docs/stable/nn.html#tanh) to our output layer.\n",
    "\n",
    "#### tanh Output\n",
    "The generator has been found to perform the best with $tanh$ for the generator output, which scales the output to be between -1 and 1, instead of 0 and 1. \n",
    "\n",
    "<img src='assets/tanh_fn.png' width=40% />\n",
    "\n",
    "Recall that we also want these outputs to be comparable to the *real* input pixel values, which are read in as normalized values between 0 and 1. \n",
    "> So, we'll also have to **scale our real input images to have pixel values between -1 and 1** when we train the discriminator. \n",
    "\n",
    "I'll do this in the training loop, later on."
   ]
  },
  {
   "cell_type": "code",
   "execution_count": 5,
   "metadata": {},
   "outputs": [],
   "source": [
    "class Generator(nn.Module):\n",
    "\n",
    "    def __init__(self, input_size, hidden_dim, output_size):\n",
    "        super(Generator, self).__init__()\n",
    "        \n",
    "        # define hidden linear layers\n",
    "        self.fc1 = nn.Linear(input_size, hidden_dim)\n",
    "        self.fc2 = nn.Linear(hidden_dim, hidden_dim*2)\n",
    "        self.fc3 = nn.Linear(hidden_dim*2, hidden_dim*4)\n",
    "        \n",
    "        # final fully-connected layer\n",
    "        self.fc4 = nn.Linear(hidden_dim*4, output_size)\n",
    "        \n",
    "        # dropout layer \n",
    "        self.dropout = nn.Dropout(0.3)\n",
    "\n",
    "    def forward(self, x):\n",
    "        # all hidden layers\n",
    "        x = F.leaky_relu(self.fc1(x), 0.2) # (input, negative_slope=0.2)\n",
    "        x = self.dropout(x)\n",
    "        x = F.leaky_relu(self.fc2(x), 0.2)\n",
    "        x = self.dropout(x)\n",
    "        x = F.leaky_relu(self.fc3(x), 0.2)\n",
    "        x = self.dropout(x)\n",
    "        # final layer with tanh applied\n",
    "        out = F.tanh(self.fc4(x))\n",
    "\n",
    "        return out"
   ]
  },
  {
   "cell_type": "markdown",
   "metadata": {},
   "source": [
    "## Model hyperparameters"
   ]
  },
  {
   "cell_type": "code",
   "execution_count": 6,
   "metadata": {},
   "outputs": [],
   "source": [
    "# Discriminator hyperparams\n",
    "\n",
    "# Size of input image to discriminator (28*28)\n",
    "input_size = 784\n",
    "# Size of discriminator output (real or fake)\n",
    "d_output_size = 1\n",
    "# Size of last hidden layer in the discriminator\n",
    "d_hidden_size = 32\n",
    "\n",
    "# Generator hyperparams\n",
    "\n",
    "# Size of latent vector to give to generator\n",
    "z_size = 100\n",
    "# Size of discriminator output (generated image)\n",
    "g_output_size = 784\n",
    "# Size of first hidden layer in the generator\n",
    "g_hidden_size = 32"
   ]
  },
  {
   "cell_type": "markdown",
   "metadata": {},
   "source": [
    "## Build complete network\n",
    "\n",
    "Now we're instantiating the discriminator and generator from the classes defined above. Make sure you've passed in the correct input arguments."
   ]
  },
  {
   "cell_type": "code",
   "execution_count": 7,
   "metadata": {},
   "outputs": [
    {
     "name": "stdout",
     "output_type": "stream",
     "text": [
      "Discriminator(\n",
      "  (fc1): Linear(in_features=784, out_features=128, bias=True)\n",
      "  (fc2): Linear(in_features=128, out_features=64, bias=True)\n",
      "  (fc3): Linear(in_features=64, out_features=32, bias=True)\n",
      "  (fc4): Linear(in_features=32, out_features=1, bias=True)\n",
      "  (dropout): Dropout(p=0.3)\n",
      ")\n",
      "\n",
      "Generator(\n",
      "  (fc1): Linear(in_features=100, out_features=32, bias=True)\n",
      "  (fc2): Linear(in_features=32, out_features=64, bias=True)\n",
      "  (fc3): Linear(in_features=64, out_features=128, bias=True)\n",
      "  (fc4): Linear(in_features=128, out_features=784, bias=True)\n",
      "  (dropout): Dropout(p=0.3)\n",
      ")\n"
     ]
    }
   ],
   "source": [
    "# instantiate discriminator and generator\n",
    "D = Discriminator(input_size, d_hidden_size, d_output_size)\n",
    "G = Generator(z_size, g_hidden_size, g_output_size)\n",
    "\n",
    "# check that they are as you expect\n",
    "print(D)\n",
    "print()\n",
    "print(G)"
   ]
  },
  {
   "cell_type": "markdown",
   "metadata": {},
   "source": [
    "---\n",
    "## Discriminator and Generator Losses\n",
    "\n",
    "Now we need to calculate the losses. \n",
    "\n",
    "### Discriminator Losses\n",
    "\n",
    "> * For the discriminator, the total loss is the sum of the losses for real and fake images, `d_loss = d_real_loss + d_fake_loss`. \n",
    "* Remember that we want the discriminator to output 1 for real images and 0 for fake images, so we need to set up the losses to reflect that.\n",
    "\n",
    "<img src='assets/gan_pipeline.png' width=70% />\n",
    "\n",
    "The losses will by binary cross entropy loss with logits, which we can get with [BCEWithLogitsLoss](https://pytorch.org/docs/stable/nn.html#bcewithlogitsloss). This combines a `sigmoid` activation function **and** and binary cross entropy loss in one function.\n",
    "\n",
    "For the real images, we want `D(real_images) = 1`. That is, we want the discriminator to classify the the real images with a label = 1, indicating that these are real. To help the discriminator generalize better, the labels are **reduced a bit from 1.0 to 0.9**. For this, we'll use the parameter `smooth`; if True, then we should smooth our labels. In PyTorch, this looks like `labels = torch.ones(size) * 0.9`\n",
    "\n",
    "The discriminator loss for the fake data is similar. We want `D(fake_images) = 0`, where the fake images are the _generator output_, `fake_images = G(z)`. \n",
    "\n",
    "### Generator Loss\n",
    "\n",
    "The generator loss will look similar only with flipped labels. The generator's goal is to get `D(fake_images) = 1`. In this case, the labels are **flipped** to represent that the generator is trying to fool the discriminator into thinking that the images it generates (fakes) are real!"
   ]
  },
  {
   "cell_type": "code",
   "execution_count": 8,
   "metadata": {},
   "outputs": [],
   "source": [
    "# Calculate losses\n",
    "def real_loss(D_out, smooth=False):\n",
    "    batch_size = D_out.size(0)\n",
    "    # label smoothing\n",
    "    if smooth:\n",
    "        # smooth, real labels = 0.9\n",
    "        labels = torch.ones(batch_size)*0.9\n",
    "    else:\n",
    "        labels = torch.ones(batch_size) # real labels = 1\n",
    "        \n",
    "    # numerically stable loss\n",
    "    criterion = nn.BCEWithLogitsLoss()\n",
    "    # calculate loss\n",
    "    loss = criterion(D_out.squeeze(), labels)\n",
    "    return loss\n",
    "\n",
    "def fake_loss(D_out):\n",
    "    batch_size = D_out.size(0)\n",
    "    labels = torch.zeros(batch_size) # fake labels = 0\n",
    "    criterion = nn.BCEWithLogitsLoss()\n",
    "    # calculate loss\n",
    "    loss = criterion(D_out.squeeze(), labels)\n",
    "    return loss"
   ]
  },
  {
   "cell_type": "markdown",
   "metadata": {},
   "source": [
    "## Optimizers\n",
    "\n",
    "We want to update the generator and discriminator variables separately. So, we'll define two separate Adam optimizers."
   ]
  },
  {
   "cell_type": "code",
   "execution_count": 9,
   "metadata": {
    "scrolled": true
   },
   "outputs": [],
   "source": [
    "import torch.optim as optim\n",
    "\n",
    "# Optimizers\n",
    "lr = 0.002\n",
    "\n",
    "# Create optimizers for the discriminator and generator\n",
    "d_optimizer = optim.Adam(D.parameters(), lr)\n",
    "g_optimizer = optim.Adam(G.parameters(), lr)"
   ]
  },
  {
   "cell_type": "markdown",
   "metadata": {},
   "source": [
    "---\n",
    "## Training\n",
    "\n",
    "Training will involve alternating between training the discriminator and the generator. We'll use our functions `real_loss` and `fake_loss` to help us calculate the discriminator losses in all of the following cases.\n",
    "\n",
    "### Discriminator training\n",
    "1. Compute the discriminator loss on real, training images        \n",
    "2. Generate fake images\n",
    "3. Compute the discriminator loss on fake, generated images     \n",
    "4. Add up real and fake loss\n",
    "5. Perform backpropagation + an optimization step to update the discriminator's weights\n",
    "\n",
    "### Generator training\n",
    "1. Generate fake images\n",
    "2. Compute the discriminator loss on fake images, using **flipped** labels!\n",
    "3. Perform backpropagation + an optimization step to update the generator's weights\n",
    "\n",
    "#### Saving Samples\n",
    "\n",
    "As we train, we'll also print out some loss statistics and save some generated \"fake\" samples."
   ]
  },
  {
   "cell_type": "code",
   "execution_count": 10,
   "metadata": {
    "scrolled": true
   },
   "outputs": [
    {
     "name": "stderr",
     "output_type": "stream",
     "text": [
      "c:\\users\\rmoy\\appdata\\local\\continuum\\anaconda3\\envs\\deep-learning-nd-1\\lib\\site-packages\\torch\\nn\\functional.py:1320: UserWarning: nn.functional.tanh is deprecated. Use torch.tanh instead.\n",
      "  warnings.warn(\"nn.functional.tanh is deprecated. Use torch.tanh instead.\")\n"
     ]
    },
    {
     "name": "stdout",
     "output_type": "stream",
     "text": [
      "Epoch [    1/  100] | d_loss: 1.4062 | g_loss: 0.7949\n",
      "Epoch [    1/  100] | d_loss: 1.0308 | g_loss: 1.6801\n",
      "Epoch [    1/  100] | d_loss: 1.3210 | g_loss: 0.8065\n",
      "Epoch [    2/  100] | d_loss: 1.3791 | g_loss: 0.5973\n",
      "Epoch [    2/  100] | d_loss: 1.0469 | g_loss: 2.0477\n",
      "Epoch [    2/  100] | d_loss: 1.3783 | g_loss: 0.6854\n",
      "Epoch [    3/  100] | d_loss: 1.3097 | g_loss: 0.6991\n",
      "Epoch [    3/  100] | d_loss: 0.9257 | g_loss: 4.9695\n",
      "Epoch [    3/  100] | d_loss: 1.1057 | g_loss: 1.4378\n",
      "Epoch [    4/  100] | d_loss: 1.2784 | g_loss: 0.8644\n",
      "Epoch [    4/  100] | d_loss: 1.2783 | g_loss: 2.0707\n",
      "Epoch [    4/  100] | d_loss: 1.2506 | g_loss: 0.8994\n",
      "Epoch [    5/  100] | d_loss: 1.2468 | g_loss: 0.9911\n",
      "Epoch [    5/  100] | d_loss: 1.0709 | g_loss: 1.5437\n",
      "Epoch [    5/  100] | d_loss: 1.2580 | g_loss: 1.3861\n",
      "Epoch [    6/  100] | d_loss: 1.1441 | g_loss: 0.9322\n",
      "Epoch [    6/  100] | d_loss: 1.4686 | g_loss: 0.9350\n",
      "Epoch [    6/  100] | d_loss: 1.1837 | g_loss: 1.0934\n",
      "Epoch [    7/  100] | d_loss: 1.5079 | g_loss: 1.5945\n",
      "Epoch [    7/  100] | d_loss: 1.1449 | g_loss: 1.1652\n",
      "Epoch [    7/  100] | d_loss: 1.4085 | g_loss: 0.7526\n",
      "Epoch [    8/  100] | d_loss: 1.3061 | g_loss: 0.9941\n",
      "Epoch [    8/  100] | d_loss: 1.2534 | g_loss: 1.1574\n",
      "Epoch [    8/  100] | d_loss: 1.0007 | g_loss: 2.5182\n",
      "Epoch [    9/  100] | d_loss: 1.6024 | g_loss: 2.1608\n",
      "Epoch [    9/  100] | d_loss: 1.1752 | g_loss: 3.2424\n",
      "Epoch [    9/  100] | d_loss: 0.9233 | g_loss: 7.0906\n",
      "Epoch [   10/  100] | d_loss: 0.4594 | g_loss: 15.2248\n",
      "Epoch [   10/  100] | d_loss: 0.4018 | g_loss: 16.7222\n",
      "Epoch [   10/  100] | d_loss: 0.3695 | g_loss: 21.0488\n",
      "Epoch [   11/  100] | d_loss: 0.3934 | g_loss: 20.7500\n",
      "Epoch [   11/  100] | d_loss: 0.3623 | g_loss: 17.4450\n",
      "Epoch [   11/  100] | d_loss: 0.3477 | g_loss: 17.4488\n",
      "Epoch [   12/  100] | d_loss: 0.4450 | g_loss: 19.3455\n",
      "Epoch [   12/  100] | d_loss: 0.3525 | g_loss: 15.4308\n",
      "Epoch [   12/  100] | d_loss: 0.4963 | g_loss: 12.6813\n",
      "Epoch [   13/  100] | d_loss: 0.3566 | g_loss: 15.5118\n",
      "Epoch [   13/  100] | d_loss: 0.4175 | g_loss: 20.5037\n",
      "Epoch [   13/  100] | d_loss: 0.3721 | g_loss: 16.3990\n",
      "Epoch [   14/  100] | d_loss: 0.4491 | g_loss: 14.6026\n",
      "Epoch [   14/  100] | d_loss: 0.3487 | g_loss: 10.3882\n",
      "Epoch [   14/  100] | d_loss: 0.3438 | g_loss: 18.6743\n",
      "Epoch [   15/  100] | d_loss: 0.3774 | g_loss: 11.6017\n",
      "Epoch [   15/  100] | d_loss: 0.4023 | g_loss: 9.5897\n",
      "Epoch [   15/  100] | d_loss: 0.3740 | g_loss: 8.2256\n",
      "Epoch [   16/  100] | d_loss: 0.4040 | g_loss: 13.0153\n",
      "Epoch [   16/  100] | d_loss: 0.3688 | g_loss: 12.5844\n",
      "Epoch [   16/  100] | d_loss: 0.3840 | g_loss: 12.5945\n",
      "Epoch [   17/  100] | d_loss: 0.3960 | g_loss: 13.0579\n",
      "Epoch [   17/  100] | d_loss: 0.3924 | g_loss: 7.8398\n",
      "Epoch [   17/  100] | d_loss: 0.3574 | g_loss: 8.2003\n",
      "Epoch [   18/  100] | d_loss: 0.4469 | g_loss: 10.4439\n",
      "Epoch [   18/  100] | d_loss: 0.4407 | g_loss: 7.2392\n",
      "Epoch [   18/  100] | d_loss: 0.3784 | g_loss: 10.9082\n",
      "Epoch [   19/  100] | d_loss: 0.3792 | g_loss: 8.1914\n",
      "Epoch [   19/  100] | d_loss: 0.4125 | g_loss: 7.8978\n",
      "Epoch [   19/  100] | d_loss: 0.4067 | g_loss: 9.4494\n",
      "Epoch [   20/  100] | d_loss: 0.4420 | g_loss: 11.1782\n",
      "Epoch [   20/  100] | d_loss: 0.3808 | g_loss: 11.3604\n",
      "Epoch [   20/  100] | d_loss: 0.4151 | g_loss: 7.8156\n",
      "Epoch [   21/  100] | d_loss: 0.4302 | g_loss: 9.7205\n",
      "Epoch [   21/  100] | d_loss: 0.3734 | g_loss: 9.6597\n",
      "Epoch [   21/  100] | d_loss: 0.3950 | g_loss: 8.9029\n",
      "Epoch [   22/  100] | d_loss: 0.4332 | g_loss: 10.1963\n",
      "Epoch [   22/  100] | d_loss: 0.4414 | g_loss: 8.4055\n",
      "Epoch [   22/  100] | d_loss: 0.3844 | g_loss: 14.0884\n",
      "Epoch [   23/  100] | d_loss: 0.4883 | g_loss: 11.4502\n",
      "Epoch [   23/  100] | d_loss: 0.3769 | g_loss: 9.0406\n",
      "Epoch [   23/  100] | d_loss: 0.4038 | g_loss: 11.1157\n",
      "Epoch [   24/  100] | d_loss: 0.3866 | g_loss: 10.0440\n",
      "Epoch [   24/  100] | d_loss: 0.4040 | g_loss: 11.9344\n",
      "Epoch [   24/  100] | d_loss: 0.4057 | g_loss: 7.4670\n",
      "Epoch [   25/  100] | d_loss: 0.4643 | g_loss: 10.1803\n",
      "Epoch [   25/  100] | d_loss: 0.4173 | g_loss: 8.8813\n",
      "Epoch [   25/  100] | d_loss: 0.3882 | g_loss: 13.4932\n",
      "Epoch [   26/  100] | d_loss: 0.3975 | g_loss: 9.5730\n",
      "Epoch [   26/  100] | d_loss: 0.4020 | g_loss: 10.8510\n",
      "Epoch [   26/  100] | d_loss: 0.3940 | g_loss: 8.5499\n",
      "Epoch [   27/  100] | d_loss: 0.4823 | g_loss: 11.3629\n",
      "Epoch [   27/  100] | d_loss: 0.3948 | g_loss: 7.7365\n",
      "Epoch [   27/  100] | d_loss: 0.3581 | g_loss: 11.1443\n",
      "Epoch [   28/  100] | d_loss: 0.3803 | g_loss: 12.6875\n",
      "Epoch [   28/  100] | d_loss: 0.3884 | g_loss: 11.2816\n",
      "Epoch [   28/  100] | d_loss: 0.3598 | g_loss: 11.8236\n",
      "Epoch [   29/  100] | d_loss: 0.4449 | g_loss: 7.9197\n",
      "Epoch [   29/  100] | d_loss: 0.4406 | g_loss: 11.3435\n",
      "Epoch [   29/  100] | d_loss: 0.3760 | g_loss: 8.7620\n",
      "Epoch [   30/  100] | d_loss: 0.4169 | g_loss: 10.8347\n",
      "Epoch [   30/  100] | d_loss: 0.4121 | g_loss: 8.2501\n",
      "Epoch [   30/  100] | d_loss: 0.4262 | g_loss: 10.6049\n",
      "Epoch [   31/  100] | d_loss: 0.4396 | g_loss: 10.6413\n",
      "Epoch [   31/  100] | d_loss: 0.3596 | g_loss: 12.4869\n",
      "Epoch [   31/  100] | d_loss: 0.4811 | g_loss: 10.5859\n",
      "Epoch [   32/  100] | d_loss: 0.4596 | g_loss: 8.2896\n",
      "Epoch [   32/  100] | d_loss: 0.3692 | g_loss: 10.4549\n",
      "Epoch [   32/  100] | d_loss: 0.4106 | g_loss: 10.1443\n",
      "Epoch [   33/  100] | d_loss: 0.3727 | g_loss: 8.1805\n",
      "Epoch [   33/  100] | d_loss: 0.4172 | g_loss: 7.4905\n",
      "Epoch [   33/  100] | d_loss: 0.4115 | g_loss: 9.1084\n",
      "Epoch [   34/  100] | d_loss: 0.4886 | g_loss: 8.1792\n",
      "Epoch [   34/  100] | d_loss: 0.4010 | g_loss: 10.1959\n",
      "Epoch [   34/  100] | d_loss: 0.4401 | g_loss: 7.5127\n",
      "Epoch [   35/  100] | d_loss: 0.3825 | g_loss: 11.5481\n",
      "Epoch [   35/  100] | d_loss: 0.3858 | g_loss: 7.5818\n",
      "Epoch [   35/  100] | d_loss: 0.3662 | g_loss: 11.4172\n",
      "Epoch [   36/  100] | d_loss: 0.4679 | g_loss: 12.7081\n",
      "Epoch [   36/  100] | d_loss: 0.3622 | g_loss: 9.6585\n",
      "Epoch [   36/  100] | d_loss: 0.4215 | g_loss: 10.3742\n",
      "Epoch [   37/  100] | d_loss: 0.4313 | g_loss: 11.0151\n",
      "Epoch [   37/  100] | d_loss: 0.4088 | g_loss: 9.8557\n",
      "Epoch [   37/  100] | d_loss: 0.3754 | g_loss: 10.2999\n",
      "Epoch [   38/  100] | d_loss: 0.4615 | g_loss: 11.9116\n",
      "Epoch [   38/  100] | d_loss: 0.4107 | g_loss: 10.5634\n",
      "Epoch [   38/  100] | d_loss: 0.3693 | g_loss: 8.4908\n",
      "Epoch [   39/  100] | d_loss: 0.3953 | g_loss: 9.3068\n",
      "Epoch [   39/  100] | d_loss: 0.3912 | g_loss: 8.2891\n",
      "Epoch [   39/  100] | d_loss: 0.4193 | g_loss: 9.9529\n",
      "Epoch [   40/  100] | d_loss: 0.3507 | g_loss: 9.8254\n",
      "Epoch [   40/  100] | d_loss: 0.3764 | g_loss: 8.3618\n",
      "Epoch [   40/  100] | d_loss: 0.3561 | g_loss: 9.9055\n",
      "Epoch [   41/  100] | d_loss: 0.4700 | g_loss: 11.8045\n",
      "Epoch [   41/  100] | d_loss: 0.4168 | g_loss: 9.0198\n",
      "Epoch [   41/  100] | d_loss: 0.3634 | g_loss: 10.4114\n",
      "Epoch [   42/  100] | d_loss: 0.4439 | g_loss: 11.6427\n",
      "Epoch [   42/  100] | d_loss: 0.4520 | g_loss: 6.9970\n",
      "Epoch [   42/  100] | d_loss: 0.3537 | g_loss: 10.1632\n",
      "Epoch [   43/  100] | d_loss: 0.4306 | g_loss: 11.5024\n",
      "Epoch [   43/  100] | d_loss: 0.4126 | g_loss: 12.0711\n",
      "Epoch [   43/  100] | d_loss: 0.4245 | g_loss: 9.1438\n",
      "Epoch [   44/  100] | d_loss: 0.3881 | g_loss: 11.8647\n",
      "Epoch [   44/  100] | d_loss: 0.4254 | g_loss: 7.4837\n",
      "Epoch [   44/  100] | d_loss: 0.4008 | g_loss: 7.4365\n",
      "Epoch [   45/  100] | d_loss: 0.4948 | g_loss: 10.3114\n",
      "Epoch [   45/  100] | d_loss: 0.3474 | g_loss: 10.3300\n",
      "Epoch [   45/  100] | d_loss: 0.4316 | g_loss: 11.1693\n",
      "Epoch [   46/  100] | d_loss: 0.4487 | g_loss: 13.8998\n",
      "Epoch [   46/  100] | d_loss: 0.4202 | g_loss: 6.2098\n",
      "Epoch [   46/  100] | d_loss: 0.4087 | g_loss: 10.1340\n",
      "Epoch [   47/  100] | d_loss: 0.3778 | g_loss: 14.0462\n",
      "Epoch [   47/  100] | d_loss: 0.4038 | g_loss: 10.6718\n",
      "Epoch [   47/  100] | d_loss: 0.3651 | g_loss: 13.2804\n",
      "Epoch [   48/  100] | d_loss: 0.3850 | g_loss: 8.1335\n",
      "Epoch [   48/  100] | d_loss: 0.4162 | g_loss: 8.7613\n",
      "Epoch [   48/  100] | d_loss: 0.3734 | g_loss: 10.6801\n",
      "Epoch [   49/  100] | d_loss: 0.4811 | g_loss: 7.9164\n",
      "Epoch [   49/  100] | d_loss: 0.3858 | g_loss: 11.4045\n",
      "Epoch [   49/  100] | d_loss: 0.3728 | g_loss: 11.9923\n",
      "Epoch [   50/  100] | d_loss: 0.3751 | g_loss: 10.2410\n",
      "Epoch [   50/  100] | d_loss: 0.3542 | g_loss: 12.8827\n",
      "Epoch [   50/  100] | d_loss: 0.3732 | g_loss: 9.8517\n"
     ]
    },
    {
     "name": "stdout",
     "output_type": "stream",
     "text": [
      "Epoch [   51/  100] | d_loss: 0.3910 | g_loss: 10.2834\n",
      "Epoch [   51/  100] | d_loss: 0.3867 | g_loss: 11.3774\n",
      "Epoch [   51/  100] | d_loss: 0.3873 | g_loss: 10.3287\n",
      "Epoch [   52/  100] | d_loss: 0.4704 | g_loss: 12.9890\n",
      "Epoch [   52/  100] | d_loss: 0.3695 | g_loss: 9.1863\n",
      "Epoch [   52/  100] | d_loss: 0.3705 | g_loss: 11.6414\n",
      "Epoch [   53/  100] | d_loss: 0.4151 | g_loss: 9.2592\n",
      "Epoch [   53/  100] | d_loss: 0.3841 | g_loss: 10.5907\n",
      "Epoch [   53/  100] | d_loss: 0.3744 | g_loss: 10.6553\n",
      "Epoch [   54/  100] | d_loss: 0.4080 | g_loss: 9.4532\n",
      "Epoch [   54/  100] | d_loss: 0.3566 | g_loss: 10.2392\n",
      "Epoch [   54/  100] | d_loss: 0.3737 | g_loss: 10.6264\n",
      "Epoch [   55/  100] | d_loss: 0.4269 | g_loss: 9.6673\n",
      "Epoch [   55/  100] | d_loss: 0.3737 | g_loss: 11.0891\n",
      "Epoch [   55/  100] | d_loss: 0.4076 | g_loss: 11.3747\n",
      "Epoch [   56/  100] | d_loss: 0.4478 | g_loss: 10.4052\n",
      "Epoch [   56/  100] | d_loss: 0.3699 | g_loss: 7.9938\n",
      "Epoch [   56/  100] | d_loss: 0.3824 | g_loss: 12.7126\n",
      "Epoch [   57/  100] | d_loss: 0.3538 | g_loss: 12.1529\n",
      "Epoch [   57/  100] | d_loss: 0.4372 | g_loss: 9.9040\n",
      "Epoch [   57/  100] | d_loss: 0.4181 | g_loss: 8.0995\n",
      "Epoch [   58/  100] | d_loss: 0.4621 | g_loss: 14.6279\n",
      "Epoch [   58/  100] | d_loss: 0.3801 | g_loss: 10.1193\n",
      "Epoch [   58/  100] | d_loss: 0.4083 | g_loss: 11.0848\n",
      "Epoch [   59/  100] | d_loss: 0.4082 | g_loss: 10.2542\n",
      "Epoch [   59/  100] | d_loss: 0.3502 | g_loss: 11.7431\n",
      "Epoch [   59/  100] | d_loss: 0.4057 | g_loss: 14.4282\n",
      "Epoch [   60/  100] | d_loss: 0.3914 | g_loss: 10.3369\n",
      "Epoch [   60/  100] | d_loss: 0.3967 | g_loss: 8.4513\n",
      "Epoch [   60/  100] | d_loss: 0.3742 | g_loss: 10.4785\n",
      "Epoch [   61/  100] | d_loss: 0.4376 | g_loss: 10.1576\n",
      "Epoch [   61/  100] | d_loss: 0.3723 | g_loss: 8.0173\n",
      "Epoch [   61/  100] | d_loss: 0.3524 | g_loss: 10.8538\n",
      "Epoch [   62/  100] | d_loss: 0.4198 | g_loss: 10.2181\n",
      "Epoch [   62/  100] | d_loss: 0.4323 | g_loss: 8.1387\n",
      "Epoch [   62/  100] | d_loss: 0.3432 | g_loss: 13.3339\n",
      "Epoch [   63/  100] | d_loss: 0.3798 | g_loss: 10.0554\n",
      "Epoch [   63/  100] | d_loss: 0.3942 | g_loss: 10.9260\n",
      "Epoch [   63/  100] | d_loss: 0.3668 | g_loss: 14.6372\n",
      "Epoch [   64/  100] | d_loss: 0.3726 | g_loss: 11.8851\n",
      "Epoch [   64/  100] | d_loss: 0.4043 | g_loss: 9.6078\n",
      "Epoch [   64/  100] | d_loss: 0.3778 | g_loss: 13.8859\n",
      "Epoch [   65/  100] | d_loss: 0.4120 | g_loss: 13.4037\n",
      "Epoch [   65/  100] | d_loss: 0.3766 | g_loss: 6.8496\n",
      "Epoch [   65/  100] | d_loss: 0.3602 | g_loss: 10.1807\n",
      "Epoch [   66/  100] | d_loss: 0.4044 | g_loss: 13.3603\n",
      "Epoch [   66/  100] | d_loss: 0.5041 | g_loss: 7.6214\n",
      "Epoch [   66/  100] | d_loss: 0.4237 | g_loss: 12.8763\n",
      "Epoch [   67/  100] | d_loss: 0.3625 | g_loss: 14.0342\n",
      "Epoch [   67/  100] | d_loss: 0.3451 | g_loss: 12.5168\n",
      "Epoch [   67/  100] | d_loss: 0.3889 | g_loss: 11.0846\n",
      "Epoch [   68/  100] | d_loss: 0.3690 | g_loss: 11.8975\n",
      "Epoch [   68/  100] | d_loss: 0.3622 | g_loss: 10.9344\n",
      "Epoch [   68/  100] | d_loss: 0.3847 | g_loss: 12.5212\n",
      "Epoch [   69/  100] | d_loss: 0.3556 | g_loss: 12.6496\n",
      "Epoch [   69/  100] | d_loss: 0.3738 | g_loss: 10.2646\n",
      "Epoch [   69/  100] | d_loss: 0.4043 | g_loss: 11.7101\n",
      "Epoch [   70/  100] | d_loss: 0.3762 | g_loss: 11.2352\n",
      "Epoch [   70/  100] | d_loss: 0.3748 | g_loss: 12.8474\n",
      "Epoch [   70/  100] | d_loss: 0.3751 | g_loss: 11.5251\n",
      "Epoch [   71/  100] | d_loss: 0.3845 | g_loss: 8.8151\n",
      "Epoch [   71/  100] | d_loss: 0.3847 | g_loss: 10.9936\n",
      "Epoch [   71/  100] | d_loss: 0.3594 | g_loss: 11.2898\n",
      "Epoch [   72/  100] | d_loss: 0.5309 | g_loss: 14.2403\n",
      "Epoch [   72/  100] | d_loss: 0.3783 | g_loss: 13.2487\n",
      "Epoch [   72/  100] | d_loss: 0.3567 | g_loss: 14.3750\n",
      "Epoch [   73/  100] | d_loss: 0.4618 | g_loss: 14.8290\n",
      "Epoch [   73/  100] | d_loss: 0.4434 | g_loss: 12.4460\n",
      "Epoch [   73/  100] | d_loss: 0.3602 | g_loss: 13.9760\n",
      "Epoch [   74/  100] | d_loss: 0.4475 | g_loss: 9.4079\n",
      "Epoch [   74/  100] | d_loss: 0.3320 | g_loss: 12.8256\n",
      "Epoch [   74/  100] | d_loss: 0.3906 | g_loss: 11.7090\n",
      "Epoch [   75/  100] | d_loss: 0.4635 | g_loss: 10.5314\n",
      "Epoch [   75/  100] | d_loss: 0.3462 | g_loss: 12.9885\n",
      "Epoch [   75/  100] | d_loss: 0.4134 | g_loss: 16.0574\n",
      "Epoch [   76/  100] | d_loss: 0.4404 | g_loss: 13.7334\n",
      "Epoch [   76/  100] | d_loss: 0.3587 | g_loss: 13.2545\n",
      "Epoch [   76/  100] | d_loss: 0.3911 | g_loss: 14.1276\n",
      "Epoch [   77/  100] | d_loss: 0.3480 | g_loss: 12.7332\n",
      "Epoch [   77/  100] | d_loss: 0.3396 | g_loss: 11.5756\n",
      "Epoch [   77/  100] | d_loss: 0.4013 | g_loss: 14.6423\n",
      "Epoch [   78/  100] | d_loss: 0.3696 | g_loss: 13.3395\n",
      "Epoch [   78/  100] | d_loss: 0.3778 | g_loss: 12.7613\n",
      "Epoch [   78/  100] | d_loss: 0.3519 | g_loss: 14.5256\n",
      "Epoch [   79/  100] | d_loss: 0.4076 | g_loss: 14.1527\n",
      "Epoch [   79/  100] | d_loss: 0.3667 | g_loss: 15.1919\n",
      "Epoch [   79/  100] | d_loss: 0.3862 | g_loss: 14.6958\n",
      "Epoch [   80/  100] | d_loss: 0.4349 | g_loss: 14.0945\n",
      "Epoch [   80/  100] | d_loss: 0.3532 | g_loss: 9.7677\n",
      "Epoch [   80/  100] | d_loss: 0.3924 | g_loss: 9.9246\n",
      "Epoch [   81/  100] | d_loss: 0.3546 | g_loss: 11.9340\n",
      "Epoch [   81/  100] | d_loss: 0.3764 | g_loss: 15.3265\n",
      "Epoch [   81/  100] | d_loss: 0.3588 | g_loss: 11.1767\n",
      "Epoch [   82/  100] | d_loss: 0.5295 | g_loss: 14.4586\n",
      "Epoch [   82/  100] | d_loss: 0.3385 | g_loss: 15.1256\n",
      "Epoch [   82/  100] | d_loss: 0.3620 | g_loss: 12.5813\n",
      "Epoch [   83/  100] | d_loss: 0.3803 | g_loss: 12.6585\n",
      "Epoch [   83/  100] | d_loss: 0.4818 | g_loss: 14.7840\n",
      "Epoch [   83/  100] | d_loss: 0.3481 | g_loss: 16.3527\n",
      "Epoch [   84/  100] | d_loss: 0.3428 | g_loss: 15.2414\n",
      "Epoch [   84/  100] | d_loss: 0.3512 | g_loss: 18.7601\n",
      "Epoch [   84/  100] | d_loss: 0.4375 | g_loss: 16.3195\n",
      "Epoch [   85/  100] | d_loss: 0.3649 | g_loss: 13.4274\n",
      "Epoch [   85/  100] | d_loss: 0.3473 | g_loss: 14.8582\n",
      "Epoch [   85/  100] | d_loss: 0.3654 | g_loss: 16.7092\n",
      "Epoch [   86/  100] | d_loss: 0.5064 | g_loss: 11.9917\n",
      "Epoch [   86/  100] | d_loss: 0.3592 | g_loss: 15.2776\n",
      "Epoch [   86/  100] | d_loss: 0.4312 | g_loss: 12.9768\n",
      "Epoch [   87/  100] | d_loss: 0.3720 | g_loss: 16.3072\n",
      "Epoch [   87/  100] | d_loss: 0.3572 | g_loss: 14.5817\n",
      "Epoch [   87/  100] | d_loss: 0.3375 | g_loss: 12.4000\n",
      "Epoch [   88/  100] | d_loss: 0.4267 | g_loss: 14.0574\n",
      "Epoch [   88/  100] | d_loss: 0.3762 | g_loss: 15.3250\n",
      "Epoch [   88/  100] | d_loss: 0.3538 | g_loss: 15.4873\n",
      "Epoch [   89/  100] | d_loss: 0.3873 | g_loss: 11.4266\n",
      "Epoch [   89/  100] | d_loss: 0.3527 | g_loss: 15.4185\n",
      "Epoch [   89/  100] | d_loss: 0.3912 | g_loss: 11.4510\n",
      "Epoch [   90/  100] | d_loss: 0.3746 | g_loss: 11.5876\n",
      "Epoch [   90/  100] | d_loss: 0.3614 | g_loss: 16.5579\n",
      "Epoch [   90/  100] | d_loss: 0.4007 | g_loss: 18.5142\n",
      "Epoch [   91/  100] | d_loss: 0.3642 | g_loss: 15.4787\n",
      "Epoch [   91/  100] | d_loss: 0.3466 | g_loss: 16.5957\n",
      "Epoch [   91/  100] | d_loss: 0.3414 | g_loss: 11.9631\n",
      "Epoch [   92/  100] | d_loss: 0.3650 | g_loss: 12.4609\n",
      "Epoch [   92/  100] | d_loss: 0.3602 | g_loss: 12.7600\n",
      "Epoch [   92/  100] | d_loss: 0.3735 | g_loss: 11.0090\n",
      "Epoch [   93/  100] | d_loss: 0.4535 | g_loss: 17.2747\n",
      "Epoch [   93/  100] | d_loss: 0.3722 | g_loss: 14.5336\n",
      "Epoch [   93/  100] | d_loss: 0.3590 | g_loss: 13.4667\n",
      "Epoch [   94/  100] | d_loss: 0.3648 | g_loss: 13.4999\n",
      "Epoch [   94/  100] | d_loss: 0.3458 | g_loss: 11.1208\n",
      "Epoch [   94/  100] | d_loss: 0.3457 | g_loss: 10.7990\n",
      "Epoch [   95/  100] | d_loss: 0.3644 | g_loss: 12.9879\n",
      "Epoch [   95/  100] | d_loss: 0.3528 | g_loss: 11.4867\n",
      "Epoch [   95/  100] | d_loss: 0.3631 | g_loss: 12.7057\n",
      "Epoch [   96/  100] | d_loss: 0.5734 | g_loss: 10.2517\n",
      "Epoch [   96/  100] | d_loss: 0.3621 | g_loss: 13.4994\n",
      "Epoch [   96/  100] | d_loss: 0.3426 | g_loss: 15.7851\n",
      "Epoch [   97/  100] | d_loss: 0.3528 | g_loss: 12.3425\n",
      "Epoch [   97/  100] | d_loss: 0.3464 | g_loss: 9.4201\n",
      "Epoch [   97/  100] | d_loss: 0.3879 | g_loss: 12.5415\n",
      "Epoch [   98/  100] | d_loss: 0.3577 | g_loss: 10.4799\n",
      "Epoch [   98/  100] | d_loss: 0.3386 | g_loss: 13.7245\n",
      "Epoch [   98/  100] | d_loss: 0.3689 | g_loss: 14.4196\n",
      "Epoch [   99/  100] | d_loss: 0.3514 | g_loss: 11.2122\n",
      "Epoch [   99/  100] | d_loss: 0.3385 | g_loss: 11.2649\n",
      "Epoch [   99/  100] | d_loss: 0.3812 | g_loss: 13.5443\n",
      "Epoch [  100/  100] | d_loss: 0.4135 | g_loss: 12.0402\n",
      "Epoch [  100/  100] | d_loss: 0.3657 | g_loss: 12.6223\n"
     ]
    },
    {
     "name": "stdout",
     "output_type": "stream",
     "text": [
      "Epoch [  100/  100] | d_loss: 0.3771 | g_loss: 15.1048\n"
     ]
    }
   ],
   "source": [
    "import pickle as pkl\n",
    "\n",
    "# training hyperparams\n",
    "num_epochs = 100\n",
    "\n",
    "# keep track of loss and generated, \"fake\" samples\n",
    "samples = []\n",
    "losses = []\n",
    "\n",
    "print_every = 400\n",
    "\n",
    "# Get some fixed data for sampling. These are images that are held\n",
    "# constant throughout training, and allow us to inspect the model's performance\n",
    "sample_size=16\n",
    "fixed_z = np.random.uniform(-1, 1, size=(sample_size, z_size))\n",
    "fixed_z = torch.from_numpy(fixed_z).float()\n",
    "\n",
    "# train the network\n",
    "D.train()\n",
    "G.train()\n",
    "for epoch in range(num_epochs):\n",
    "    \n",
    "    for batch_i, (real_images, _) in enumerate(train_loader):\n",
    "                \n",
    "        batch_size = real_images.size(0)\n",
    "        \n",
    "        ## Important rescaling step ## \n",
    "        real_images = real_images*2 - 1  # rescale input images from [0,1) to [-1, 1)\n",
    "        \n",
    "        # ============================================\n",
    "        #            TRAIN THE DISCRIMINATOR\n",
    "        # ============================================\n",
    "        \n",
    "        d_optimizer.zero_grad()\n",
    "        \n",
    "        # 1. Train with real images\n",
    "\n",
    "        # Compute the discriminator losses on real images \n",
    "        # smooth the real labels\n",
    "        D_real = D(real_images)\n",
    "        d_real_loss = real_loss(D_real, smooth=True)\n",
    "        \n",
    "        # 2. Train with fake images\n",
    "        \n",
    "        # Generate fake images\n",
    "        z = np.random.uniform(-1, 1, size=(batch_size, z_size))\n",
    "        z = torch.from_numpy(z).float()\n",
    "        fake_images = G(z)\n",
    "        \n",
    "        # Compute the discriminator losses on fake images        \n",
    "        D_fake = D(fake_images)\n",
    "        d_fake_loss = fake_loss(D_fake)\n",
    "        \n",
    "        # add up loss and perform backprop\n",
    "        d_loss = d_real_loss + d_fake_loss\n",
    "        d_loss.backward()\n",
    "        d_optimizer.step()\n",
    "        \n",
    "        \n",
    "        # =========================================\n",
    "        #            TRAIN THE GENERATOR\n",
    "        # =========================================\n",
    "        g_optimizer.zero_grad()\n",
    "        \n",
    "        # 1. Train with fake images and flipped labels\n",
    "        \n",
    "        # Generate fake images\n",
    "        z = np.random.uniform(-1, 1, size=(batch_size, z_size))\n",
    "        z = torch.from_numpy(z).float()\n",
    "        fake_images = G(z)\n",
    "        \n",
    "        # Compute the discriminator losses on fake images \n",
    "        # using flipped labels!\n",
    "        D_fake = D(fake_images)\n",
    "        g_loss = real_loss(D_fake) # use real loss to flip labels\n",
    "        \n",
    "        # perform backprop\n",
    "        g_loss.backward()\n",
    "        g_optimizer.step()\n",
    "\n",
    "        # Print some loss stats\n",
    "        if batch_i % print_every == 0:\n",
    "            # print discriminator and generator loss\n",
    "            print('Epoch [{:5d}/{:5d}] | d_loss: {:6.4f} | g_loss: {:6.4f}'.format(\n",
    "                    epoch+1, num_epochs, d_loss.item(), g_loss.item()))\n",
    "\n",
    "    \n",
    "    ## AFTER EACH EPOCH##\n",
    "    # append discriminator loss and generator loss\n",
    "    losses.append((d_loss.item(), g_loss.item()))\n",
    "    \n",
    "    # generate and save sample, fake images\n",
    "    G.eval() # eval mode for generating samples\n",
    "    samples_z = G(fixed_z)\n",
    "    samples.append(samples_z)\n",
    "    G.train() # back to train mode\n",
    "\n",
    "\n",
    "# Save training generator samples\n",
    "with open('train_samples.pkl', 'wb') as f:\n",
    "    pkl.dump(samples, f)"
   ]
  },
  {
   "cell_type": "markdown",
   "metadata": {},
   "source": [
    "## Training loss\n",
    "\n",
    "Here we'll plot the training losses for the generator and discriminator, recorded after each epoch."
   ]
  },
  {
   "cell_type": "code",
   "execution_count": 11,
   "metadata": {},
   "outputs": [
    {
     "data": {
      "text/plain": [
       "<matplotlib.legend.Legend at 0x1957ccbc0f0>"
      ]
     },
     "execution_count": 11,
     "metadata": {},
     "output_type": "execute_result"
    },
    {
     "data": {
      "image/png": "[encoded data removed]",
      "text/plain": [
       "<Figure size 432x288 with 1 Axes>"
      ]
     },
     "metadata": {
      "needs_background": "light"
     },
     "output_type": "display_data"
    }
   ],
   "source": [
    "fig, ax = plt.subplots()\n",
    "losses = np.array(losses)\n",
    "plt.plot(losses.T[0], label='Discriminator')\n",
    "plt.plot(losses.T[1], label='Generator')\n",
    "plt.title(\"Training Losses\")\n",
    "plt.legend()"
   ]
  },
  {
   "cell_type": "markdown",
   "metadata": {},
   "source": [
    "## Generator samples from training\n",
    "\n",
    "Here we can view samples of images from the generator. First we'll look at the images we saved during training."
   ]
  },
  {
   "cell_type": "code",
   "execution_count": 12,
   "metadata": {},
   "outputs": [],
   "source": [
    "# helper function for viewing a list of passed in sample images\n",
    "def view_samples(epoch, samples):\n",
    "    fig, axes = plt.subplots(figsize=(7,7), nrows=4, ncols=4, sharey=True, sharex=True)\n",
    "    for ax, img in zip(axes.flatten(), samples[epoch]):\n",
    "        img = img.detach()\n",
    "        ax.xaxis.set_visible(False)\n",
    "        ax.yaxis.set_visible(False)\n",
    "        im = ax.imshow(img.reshape((28,28)), cmap='Greys_r')"
   ]
  },
  {
   "cell_type": "code",
   "execution_count": 13,
   "metadata": {},
   "outputs": [],
   "source": [
    "# Load samples from generator, taken while training\n",
    "with open('train_samples.pkl', 'rb') as f:\n",
    "    samples = pkl.load(f)"
   ]
  },
  {
   "cell_type": "markdown",
   "metadata": {},
   "source": [
    "These are samples from the final training epoch. You can see the generator is able to reproduce numbers like 1, 7, 3, 2. Since this is just a sample, it isn't representative of the full range of images this generator can make."
   ]
  },
  {
   "cell_type": "code",
   "execution_count": 14,
   "metadata": {},
   "outputs": [
    {
     "data": {
      "image/png": "[encoded data removed]",
      "text/plain": [
       "<Figure size 504x504 with 16 Axes>"
      ]
     },
     "metadata": {
      "needs_background": "light"
     },
     "output_type": "display_data"
    }
   ],
   "source": [
    "# -1 indicates final epoch's samples (the last in the list)\n",
    "view_samples(-1, samples)"
   ]
  },
  {
   "cell_type": "markdown",
   "metadata": {},
   "source": [
    "Below I'm showing the generated images as the network was training, every 10 epochs."
   ]
  },
  {
   "cell_type": "code",
   "execution_count": 15,
   "metadata": {},
   "outputs": [
    {
     "data": {
      "image/png": "[encoded data removed]",
      "text/plain": [
       "<Figure size 504x864 with 60 Axes>"
      ]
     },
     "metadata": {
      "needs_background": "light"
     },
     "output_type": "display_data"
    }
   ],
   "source": [
    "rows = 10 # split epochs into 10, so 100/10 = every 10 epochs\n",
    "cols = 6\n",
    "fig, axes = plt.subplots(figsize=(7,12), nrows=rows, ncols=cols, sharex=True, sharey=True)\n",
    "\n",
    "for sample, ax_row in zip(samples[::int(len(samples)/rows)], axes):\n",
    "    for img, ax in zip(sample[::int(len(sample)/cols)], ax_row):\n",
    "        img = img.detach()\n",
    "        ax.imshow(img.reshape((28,28)), cmap='Greys_r')\n",
    "        ax.xaxis.set_visible(False)\n",
    "        ax.yaxis.set_visible(False)"
   ]
  },
  {
   "cell_type": "markdown",
   "metadata": {},
   "source": [
    "It starts out as all noise. Then it learns to make only the center white and the rest black. You can start to see some number like structures appear out of the noise like 1s and 9s."
   ]
  },
  {
   "cell_type": "markdown",
   "metadata": {},
   "source": [
    "## Sampling from the generator\n",
    "\n",
    "We can also get completely new images from the generator by using the checkpoint we saved after training. **We just need to pass in a new latent vector $z$ and we'll get new samples**!"
   ]
  },
  {
   "cell_type": "code",
   "execution_count": 16,
   "metadata": {},
   "outputs": [
    {
     "data": {
      "image/png": "[encoded data removed]",
      "text/plain": [
       "<Figure size 504x504 with 16 Axes>"
      ]
     },
     "metadata": {
      "needs_background": "light"
     },
     "output_type": "display_data"
    }
   ],
   "source": [
    "# randomly generated, new latent vectors\n",
    "sample_size=16\n",
    "rand_z = np.random.uniform(-1, 1, size=(sample_size, z_size))\n",
    "rand_z = torch.from_numpy(rand_z).float()\n",
    "\n",
    "G.eval() # eval mode\n",
    "# generated samples\n",
    "rand_images = G(rand_z)\n",
    "\n",
    "# 0 indicates the first set of samples in the passed in list\n",
    "# and we only have one batch of samples, here\n",
    "view_samples(0, [rand_images])"
   ]
  }
 ],
 "metadata": {
  "kernelspec": {
   "display_name": "Python 3",
   "language": "python",
   "name": "python3"
  },
  "language_info": {
   "codemirror_mode": {
    "name": "ipython",
    "version": 3
   },
   "file_extension": ".py",
   "mimetype": "text/x-python",
   "name": "python",
   "nbconvert_exporter": "python",
   "pygments_lexer": "ipython3",
   "version": "3.6.7"
  }
 },
 "nbformat": 4,
 "nbformat_minor": 2
}
